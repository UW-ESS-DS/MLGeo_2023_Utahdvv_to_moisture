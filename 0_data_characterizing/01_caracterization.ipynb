{
 "cells": [
  {
   "cell_type": "markdown",
   "metadata": {},
   "source": [
    "## Data characterization\n"
   ]
  },
  {
   "cell_type": "code",
   "execution_count": 1,
   "metadata": {},
   "outputs": [],
   "source": [
    "import numpy as np\n",
    "import pandas as pd\n",
    "import matplotlib.pyplot as plt\n",
    "import sys, re\n",
    "import seaborn as sns"
   ]
  },
  {
   "cell_type": "markdown",
   "metadata": {},
   "source": [
    "Read in the station list \"../Data/trim.slst\""
   ]
  },
  {
   "cell_type": "code",
   "execution_count": 2,
   "metadata": {},
   "outputs": [
    {
     "name": "stdout",
     "output_type": "stream",
     "text": [
      "number of station:  30 \n",
      "Station:  ['BGU' 'BRPU' 'BSUT' 'CTU' 'CVRU' 'DUG' 'FOR1' 'FORU' 'HMU' 'HVU1' 'HVU2'\n",
      " 'HWUT' 'JLU' 'LCMT' 'LIUT' 'MPU' 'MTPU' 'NLU' 'NOQ' 'PNSU' 'PSUT' 'RDMU'\n",
      " 'SPU' 'SRU' 'SWUT' 'SZCU' 'TCRU' 'TCU' 'VRUT1' 'VRUT2']\n"
     ]
    }
   ],
   "source": [
    "slst = \"../Data/trim.slst\"\n",
    "sta=np.loadtxt(slst,dtype='str')\n",
    "sta_num=len(sta)\n",
    "print(\"number of station: \",sta_num,\"\\nStation: \",sta)\n"
   ]
  },
  {
   "cell_type": "markdown",
   "metadata": {},
   "source": [
    "Data visualization with histograms and xy-plot. Output the normalized correlation and mean values of each component. "
   ]
  },
  {
   "cell_type": "code",
   "execution_count": null,
   "metadata": {},
   "outputs": [],
   "source": [
    "usecols=[\"utvec\", \"dv\", \"err\", \"temp\", \"SM_EWT\", \"snow_EWT\", \"GSL\", \"UL\", \"date\"]\n",
    "root = \"../Data/\"\n",
    "\n",
    "file_loc = open(\"../Data/sta.loc\", \"r\")\n",
    "\n",
    "fdv=\"Data_cc.csv\"\n",
    "file_dv = open(fdv, \"w\")\n",
    "content=\"stan,lon,lat,elv,cc_dv_dv,cc_dv_temp,cc_dv_soil,cc_dv_snow,cc_dv_GSL,cc_dv_UL\"\n",
    "file_dv.write(content+\"\\n\")\n",
    "\n",
    "fmean=\"Data_mean.csv\"\n",
    "file_mean = open(fmean, \"w\")\n",
    "content=\"stan,lon,lat,elv,mean_dv,mean_temp,mean_soil,mean_snow,mean_GSL,mean_UL\"\n",
    "file_mean.write(content+\"\\n\")\n",
    "\n",
    "for sk in range(sta_num):\n",
    "    stnm=sta[sk].strip()\n",
    "    for line in file_loc:\n",
    "        if re.search(stnm, line):\n",
    "            loc=line.strip()\n",
    "            break\n",
    "    \n",
    "    fn = root+\"INTERP_\"+stnm+\".csv\"\n",
    "    fi = pd.read_csv(fn,names=usecols,header=0)\n",
    "    fi['date'] = fi['date'].astype(str)\n",
    "    dtime=np.array(fi.utvec)\n",
    "    \n",
    "    data=np.zeros((6,len(np.array(fi.dv))))\n",
    "    data[0,:]=np.array(fi.dv)\n",
    "    data[1,:]=np.array(fi.temp)    \n",
    "    data[2,:]=np.array(fi.SM_EWT)  \n",
    "    data[3,:]=np.array(fi.snow_EWT)\n",
    "    data[4,:]=np.array(fi.GSL)     \n",
    "    data[5,:]=np.array(fi.UL)      \n",
    "    \n",
    "    figname=\"Data_hist_\"+stnm+\".png\"\n",
    "    labels=[\"dvv\",\"temp\",\"soil\",\"snow\",\"GSL\",\"UL\"]\n",
    "    fig,ax =plt.subplots(6,6,figsize=(20,16))\n",
    "    for k in range(6):\n",
    "        ax[k,0].hist(data[k,:]  , bins=20, label=labels[k],edgecolor=\"white\")\n",
    "        ax[k,0].axvline(x=np.mean(data[k,:]), color='r', label=\"Mean\")\n",
    "        ax[k,0].set_ylabel(\"Count\")\n",
    "        ax[k,0].set_title(\"Data: \"+labels[k])\n",
    "        ax[k,0].legend()\n",
    "\n",
    "        for j in range(6):\n",
    "            if (k>j):\n",
    "                ax[j,k].set_xlabel(labels[j])\n",
    "                ax[j,k].set_ylabel(labels[k])\n",
    "                ax[j,k].set_title(labels[j]+\" and \"+labels[k])\n",
    "                ax[j,k].plot(data[j,:],data[k,:],marker='.',markersize=1,linestyle = 'None')\n",
    "    \n",
    "    ax[0,0].set_xlabel(\"dv/v (%)\")\n",
    "    ax[1,0].set_xlabel(\"Temperature (degree C)\")\n",
    "    ax[2,0].set_xlabel(\"Equivalent water thickness (m)\")\n",
    "    ax[3,0].set_xlabel(\"Equivalent water thickness (m)\")\n",
    "    ax[4,0].set_xlabel(\"water level (m)\")\n",
    "    ax[5,0].set_xlabel(\"water level (m)\")\n",
    "\n",
    "    plt.tight_layout()\n",
    "    plt.savefig(figname)\n",
    "    \n",
    "    cc=np.zeros(shape=(6))\n",
    "    mean=np.zeros(shape=(6))\n",
    "    for k in range(6):\n",
    "        mean[k]=np.mean(data[k,:])\n",
    "        if(k==0):\n",
    "            data[k]=data[k]-mean[k]\n",
    "        data[k]=data[k]-np.max(np.abs(data[k,:]))\n",
    "        cc[k]=np.corrcoef(data[0,:],data[k,:])[0,1]\n",
    "        \n",
    "    \n",
    "    content_cc=\"%s\"%loc+\"%.2f,%.2f,%.2f,%.2f,%.2f,%.2f\"%(cc[0],cc[1],cc[2],cc[3],cc[4],cc[5])+\"\\n\"\n",
    "    content_mean=\"%s\"%loc+\"%.2f,%.2f,%.2f,%.2f,%.2f,%.2f\"%(mean[0],mean[1],mean[2],mean[3],mean[4],mean[5])+\"\\n\"\n",
    "    #print(content_cc.strip())\n",
    "    #print(content_mean.strip())\n",
    "    file_dv.write(content_cc)\n",
    "    file_mean.write(content_mean)\n",
    "file_loc.close()\n",
    "file_dv.close()\n",
    "file_mean.close()"
   ]
  },
  {
   "cell_type": "code",
   "execution_count": null,
   "metadata": {},
   "outputs": [],
   "source": []
  }
 ],
 "metadata": {
  "kernelspec": {
   "display_name": "base",
   "language": "python",
   "name": "python3"
  },
  "language_info": {
   "codemirror_mode": {
    "name": "ipython",
    "version": 3
   },
   "file_extension": ".py",
   "mimetype": "text/x-python",
   "name": "python",
   "nbconvert_exporter": "python",
   "pygments_lexer": "ipython3",
   "version": "3.10.8"
  },
  "orig_nbformat": 4
 },
 "nbformat": 4,
 "nbformat_minor": 2
}
