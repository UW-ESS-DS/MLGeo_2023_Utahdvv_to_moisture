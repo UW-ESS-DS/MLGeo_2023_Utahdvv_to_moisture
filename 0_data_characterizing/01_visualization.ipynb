{
 "cells": [
  {
   "cell_type": "markdown",
   "metadata": {},
   "source": [
    "## Data characterization\n"
   ]
  },
  {
   "cell_type": "code",
   "execution_count": 22,
   "metadata": {},
   "outputs": [],
   "source": [
    "import numpy as np\n",
    "import pandas as pd\n",
    "import matplotlib.pyplot as plt\n",
    "import sys, re\n",
    "import seaborn as sns"
   ]
  },
  {
   "cell_type": "markdown",
   "metadata": {},
   "source": [
    "Read in the station list \"../Data/trim.slst\""
   ]
  },
  {
   "cell_type": "code",
   "execution_count": 23,
   "metadata": {},
   "outputs": [
    {
     "name": "stdout",
     "output_type": "stream",
     "text": [
      "number of station:  23 \n",
      "Station:  ['BGU' 'BRPU' 'BSUT' 'CTU' 'CVRU' 'DUG' 'FOR1' 'FORU' 'HMU' 'HWUT' 'JLU'\n",
      " 'LCMT' 'LIUT' 'MPU' 'NOQ' 'PNSU' 'PSUT' 'RDMU' 'SPU' 'SRU' 'SZCU' 'TCRU'\n",
      " 'TCU']\n"
     ]
    }
   ],
   "source": [
    "slst = \"../Data/trim.slst\"\n",
    "sta=np.loadtxt(slst,dtype='str')\n",
    "sta_num=len(sta)\n",
    "print(\"number of station: \",sta_num,\"\\nStation: \",sta)\n"
   ]
  },
  {
   "cell_type": "markdown",
   "metadata": {},
   "source": [
    "Data visualization with histograms and xy-plot. Output the normalized correlation and mean values of each component. "
   ]
  },
  {
   "cell_type": "code",
   "execution_count": 24,
   "metadata": {},
   "outputs": [],
   "source": [
    "# Apply the default theme\n",
    "sns.set_theme()"
   ]
  },
  {
   "cell_type": "code",
   "execution_count": 25,
   "metadata": {},
   "outputs": [
    {
     "name": "stderr",
     "output_type": "stream",
     "text": [
      "/var/folders/zj/xxy_mn8d3jx2gfm5j907g72r0000gn/T/ipykernel_15042/1609116.py:44: RuntimeWarning: More than 20 figures have been opened. Figures created through the pyplot interface (`matplotlib.pyplot.figure`) are retained until explicitly closed and may consume too much memory. (To control this warning, see the rcParam `figure.max_open_warning`). Consider using `matplotlib.pyplot.close()`.\n",
      "  fig, ax = plt.subplots(3, 1, figsize=(6,6))\n"
     ]
    },
    {
     "data": {
      "text/plain": [
       "<Figure size 600x600 with 0 Axes>"
      ]
     },
     "metadata": {},
     "output_type": "display_data"
    },
    {
     "data": {
      "text/plain": [
       "<Figure size 600x600 with 0 Axes>"
      ]
     },
     "metadata": {},
     "output_type": "display_data"
    },
    {
     "data": {
      "text/plain": [
       "<Figure size 600x600 with 0 Axes>"
      ]
     },
     "metadata": {},
     "output_type": "display_data"
    },
    {
     "data": {
      "text/plain": [
       "<Figure size 600x600 with 0 Axes>"
      ]
     },
     "metadata": {},
     "output_type": "display_data"
    },
    {
     "data": {
      "text/plain": [
       "<Figure size 600x600 with 0 Axes>"
      ]
     },
     "metadata": {},
     "output_type": "display_data"
    },
    {
     "data": {
      "text/plain": [
       "<Figure size 600x600 with 0 Axes>"
      ]
     },
     "metadata": {},
     "output_type": "display_data"
    },
    {
     "data": {
      "text/plain": [
       "<Figure size 600x600 with 0 Axes>"
      ]
     },
     "metadata": {},
     "output_type": "display_data"
    },
    {
     "data": {
      "text/plain": [
       "<Figure size 600x600 with 0 Axes>"
      ]
     },
     "metadata": {},
     "output_type": "display_data"
    },
    {
     "data": {
      "text/plain": [
       "<Figure size 600x600 with 0 Axes>"
      ]
     },
     "metadata": {},
     "output_type": "display_data"
    },
    {
     "data": {
      "text/plain": [
       "<Figure size 600x600 with 0 Axes>"
      ]
     },
     "metadata": {},
     "output_type": "display_data"
    },
    {
     "data": {
      "text/plain": [
       "<Figure size 600x600 with 0 Axes>"
      ]
     },
     "metadata": {},
     "output_type": "display_data"
    },
    {
     "data": {
      "text/plain": [
       "<Figure size 600x600 with 0 Axes>"
      ]
     },
     "metadata": {},
     "output_type": "display_data"
    },
    {
     "data": {
      "text/plain": [
       "<Figure size 600x600 with 0 Axes>"
      ]
     },
     "metadata": {},
     "output_type": "display_data"
    },
    {
     "data": {
      "text/plain": [
       "<Figure size 600x600 with 0 Axes>"
      ]
     },
     "metadata": {},
     "output_type": "display_data"
    },
    {
     "data": {
      "text/plain": [
       "<Figure size 600x600 with 0 Axes>"
      ]
     },
     "metadata": {},
     "output_type": "display_data"
    },
    {
     "data": {
      "text/plain": [
       "<Figure size 600x600 with 0 Axes>"
      ]
     },
     "metadata": {},
     "output_type": "display_data"
    },
    {
     "data": {
      "text/plain": [
       "<Figure size 600x600 with 0 Axes>"
      ]
     },
     "metadata": {},
     "output_type": "display_data"
    },
    {
     "data": {
      "text/plain": [
       "<Figure size 600x600 with 0 Axes>"
      ]
     },
     "metadata": {},
     "output_type": "display_data"
    },
    {
     "data": {
      "text/plain": [
       "<Figure size 600x600 with 0 Axes>"
      ]
     },
     "metadata": {},
     "output_type": "display_data"
    },
    {
     "data": {
      "text/plain": [
       "<Figure size 600x600 with 0 Axes>"
      ]
     },
     "metadata": {},
     "output_type": "display_data"
    },
    {
     "data": {
      "text/plain": [
       "<Figure size 600x600 with 0 Axes>"
      ]
     },
     "metadata": {},
     "output_type": "display_data"
    },
    {
     "data": {
      "text/plain": [
       "<Figure size 600x600 with 0 Axes>"
      ]
     },
     "metadata": {},
     "output_type": "display_data"
    },
    {
     "data": {
      "text/plain": [
       "<Figure size 600x600 with 0 Axes>"
      ]
     },
     "metadata": {},
     "output_type": "display_data"
    }
   ],
   "source": [
    "usecols=[\"utvec\", \"dv\", \"err\", \"temp\", \"SM_EWT\", \"date\"]\n",
    "root = \"../Data/\"\n",
    "\n",
    "file_loc = open(\"../Data/sta.loc\", \"r\")\n",
    "\n",
    "fdv=\"Data_cc.csv\"\n",
    "file_dv = open(fdv, \"w\")\n",
    "content=\"stan,lon,lat,elv,cc_dv_dv,cc_dv_temp,cc_dv_soil\"\n",
    "file_dv.write(content+\"\\n\")\n",
    "\n",
    "fmean=\"Data_mean.csv\"\n",
    "file_mean = open(fmean, \"w\")\n",
    "content=\"stan,lon,lat,elv,mean_dv,mean_temp,mean_soil\"\n",
    "file_mean.write(content+\"\\n\")\n",
    "\n",
    "for sk in range(sta_num):\n",
    "    stnm=sta[sk].strip()\n",
    "    for line in file_loc:\n",
    "        if re.search(stnm, line):\n",
    "            loc=line.strip()\n",
    "            break\n",
    "    \n",
    "    fn = root+\"INTERP_\"+stnm+\".csv\"\n",
    "    fi = pd.read_csv(fn,names=usecols,header=0)\n",
    "    fi['date'] = fi['date'].astype(str)\n",
    "    dtime=np.array(fi.utvec)\n",
    "    \n",
    "    data=np.zeros((3,len(np.array(fi.dv))))\n",
    "    data[0,:]=np.array(fi.dv)\n",
    "    data[1,:]=np.array(fi.temp)    \n",
    "    data[2,:]=np.array(fi.SM_EWT)   \n",
    "           \n",
    "    cc=np.zeros(shape=(3))\n",
    "    mean=np.zeros(shape=(3))\n",
    "    for k in range(3):\n",
    "        mean[k]=np.mean(data[k,:])\n",
    "        if(k!=0):\n",
    "            data[k]=data[k]-mean[k]\n",
    "        data[k]= data[k] / np.max(np.abs(data[k,:]))\n",
    "        cc[k]=np.corrcoef(data[0,:],data[k,:])[0,1]\n",
    "\n",
    "\n",
    "    #---plot dv/v for the debug---#\n",
    "    fig, ax = plt.subplots(3, 1, figsize=(6,6))\n",
    "    last=len(fi.utvec)\n",
    "    \n",
    "    for k in range(0,3):\n",
    "        ax[k].set_xlim(fi.utvec[0],fi.utvec[last-1])\n",
    "        ax[k].grid(True)\n",
    "\n",
    "    ax[0].plot(fi.utvec, fi.dv, ls='-', c='k', lw=2)\n",
    "    ax[0].set_title(stnm+\" dv/v \")\n",
    "    ax[0].set_ylabel(\"(%)\")\n",
    "\n",
    "    ax[1].plot(fi.utvec, fi.temp,  ls=\"-\", lw=2,  c = \"orange\")\n",
    "    ax[1].set_title(\"Temperature (C)\")\n",
    "    ax[1].set_ylabel(\"(C)\")\n",
    "\n",
    "    ax[2].plot(fi.utvec, fi.SM_EWT,  ls=\"-\", c = \"blue\", lw=2)\n",
    "    ax[2].set_title(\"Soil moisture EWT (m)\")\n",
    "    ax[2].set_ylabel(\"(m)\")\n",
    "    \n",
    "    figname=\"Data_visual_\"+stnm+\".png\"\n",
    "    plt.tight_layout()\n",
    "    plt.savefig(figname)\n",
    "    plt.clf()\n",
    "\n",
    "\n",
    "\n",
    "    content_cc=\"%s\"%loc+\"%.2f,%.2f,%.2f\"%(cc[0],cc[1],cc[2])+\"\\n\"\n",
    "    content_mean=\"%s\"%loc+\"%.2f,%.2f,%.2f\"%(mean[0],mean[1],mean[2])+\"\\n\"\n",
    "    file_dv.write(content_cc)\n",
    "    file_mean.write(content_mean)\n",
    "file_loc.close()\n",
    "file_dv.close()\n",
    "file_mean.close()"
   ]
  },
  {
   "cell_type": "code",
   "execution_count": null,
   "metadata": {},
   "outputs": [],
   "source": []
  },
  {
   "cell_type": "code",
   "execution_count": null,
   "metadata": {},
   "outputs": [],
   "source": []
  }
 ],
 "metadata": {
  "kernelspec": {
   "display_name": "base",
   "language": "python",
   "name": "python3"
  },
  "language_info": {
   "codemirror_mode": {
    "name": "ipython",
    "version": 3
   },
   "file_extension": ".py",
   "mimetype": "text/x-python",
   "name": "python",
   "nbconvert_exporter": "python",
   "pygments_lexer": "ipython3",
   "version": "3.10.8"
  },
  "orig_nbformat": 4
 },
 "nbformat": 4,
 "nbformat_minor": 2
}
